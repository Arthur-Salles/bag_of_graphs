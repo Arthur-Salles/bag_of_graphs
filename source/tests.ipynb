{
 "cells": [
  {
   "cell_type": "code",
   "execution_count": 1,
   "metadata": {},
   "outputs": [],
   "source": [
    "import numpy as np \n",
    "import pyts \n",
    "import matplotlib.pyplot as plt\n",
    "import bag2graph\n",
    "# import numpy as np\n",
    "np.seterr(divide='ignore', invalid='ignore')\n",
    "from sklearn.preprocessing import LabelEncoder\n",
    "import networkx as nx \n",
    "\n",
    "%load_ext autoreload\n",
    "%autoreload 2"
   ]
  },
  {
   "cell_type": "code",
   "execution_count": 2,
   "metadata": {},
   "outputs": [
    {
     "data": {
      "text/plain": [
       "((40, 6, 100), (40,), (40, 6, 100), (40,))"
      ]
     },
     "execution_count": 2,
     "metadata": {},
     "output_type": "execute_result"
    }
   ],
   "source": [
    "import pyts.datasets\n",
    "\n",
    "x_train, x_test, y_train, y_test = pyts.datasets.load_basic_motions(return_X_y=True)#fetch_ucr_dataset('Strawberry',use_cache=False,data_home=return_X_y=True)\n",
    "\n",
    "total_labels = np.unique(y_train)\n",
    "# print(total_labels)\n",
    "label_map = dict(zip(total_labels, range(len(total_labels))))\n",
    "\n",
    "temp_ytrain = []\n",
    "for t in y_train:\n",
    "    temp_ytrain.append(label_map[t])\n",
    "temp_ytest = []\n",
    "for t in y_test:\n",
    "    temp_ytest.append(label_map[t])\n",
    "\n",
    "y_test = np.array(temp_ytest)\n",
    "y_train = np.array(temp_ytrain)\n",
    "\n",
    "\n",
    "\n",
    "x_train.shape, y_train.shape, x_test.shape, y_test.shape"
   ]
  },
  {
   "cell_type": "code",
   "execution_count": 37,
   "metadata": {},
   "outputs": [
    {
     "name": "stdout",
     "output_type": "stream",
     "text": [
      "['aaa' 'aab' 'aac' 'aba' 'abb' 'abc' 'aca' 'acb' 'acc' 'baa' 'bab' 'bac'\n",
      " 'bba' 'bbb' 'bbc' 'bca' 'bcb' 'bcc' 'caa' 'cab' 'cac' 'cba' 'cbb' 'cbc'\n",
      " 'cca' 'ccb' 'ccc'] 27\n",
      "Filtered 10 top words : ['ccb' 'bcc' 'aab' 'baa' 'cac' 'aca' 'bcb' 'abc' 'cbb' 'cba'] \n",
      "\n",
      "(40, 6)\n",
      "shape (40, 6)\n"
     ]
    }
   ],
   "source": [
    "b2g = bag2graph.Bag2Graph(10, 3, 3, channel_size=x_train.shape[1])\n",
    "\n",
    "t = b2g.apply_bow(x_train, y_train)\n",
    "\n",
    "# multivariate_graph = b2g.get_cooc_matrix(x_train[0])"
   ]
  },
  {
   "cell_type": "code",
   "execution_count": 4,
   "metadata": {},
   "outputs": [
    {
     "data": {
      "text/plain": [
       "((6,),\n",
       " array([array(['bcb', 'cbb', 'cbb', 'abc', 'bcb', 'cbb', 'cba', 'cbb', 'cba',\n",
       "               'abc', 'bcb', 'cbb', 'bcb', 'cbb', 'abc', 'bcb', 'bcb', 'cba',\n",
       "               'bcb', 'cbb'], dtype='<U3')                                   ,\n",
       "        array(['abc', 'bcb', 'cba', 'abc', 'cba', 'abc', 'cba', 'abc', 'bcb',\n",
       "               'cba', 'abc', 'cba', 'abc', 'bcb', 'bcb', 'abc', 'cba', 'abc',\n",
       "               'bcb', 'cba', 'bcb', 'cba', 'abc'], dtype='<U3')              ,\n",
       "        array(['cba', 'abc', 'bcb', 'cba', 'abc', 'bcb', 'cba', 'abc', 'bcb',\n",
       "               'cba', 'abc', 'cba', 'abc', 'bcb', 'cba', 'cba', 'bcb', 'cba',\n",
       "               'abc', 'cba', 'abc', 'bcb', 'cba', 'bcb', 'bcb'], dtype='<U3'),\n",
       "        array(['cba', 'abc', 'cba', 'abc', 'bcb', 'cbb', 'abc', 'bcb', 'cba',\n",
       "               'cbb', 'bcb', 'cba', 'abc', 'bcb', 'abc', 'cba', 'bcb', 'cba',\n",
       "               'bcb'], dtype='<U3')                                          ,\n",
       "        array(['abc', 'cba', 'abc', 'cba', 'abc', 'cba', 'abc', 'cba', 'abc',\n",
       "               'bcb', 'abc', 'bcb', 'abc', 'cba', 'cbb', 'bcb', 'bcb', 'cba'],\n",
       "              dtype='<U3')                                                    ,\n",
       "        array(['cba', 'abc', 'cba', 'abc', 'bcb', 'cba', 'abc', 'bcb', 'cba',\n",
       "               'abc', 'bcb', 'cba', 'abc', 'bcb', 'cba', 'bcb', 'abc', 'bcb',\n",
       "               'cba', 'abc', 'bcb', 'abc', 'bcb', 'cba', 'abc'], dtype='<U3')],\n",
       "       dtype=object))"
      ]
     },
     "execution_count": 4,
     "metadata": {},
     "output_type": "execute_result"
    }
   ],
   "source": [
    "single_data = t[0]\n",
    "\n",
    "single_data.shape, single_data"
   ]
  },
  {
   "cell_type": "code",
   "execution_count": 79,
   "metadata": {},
   "outputs": [
    {
     "name": "stdout",
     "output_type": "stream",
     "text": [
      "['bcb' 'cbb' 'cbb' 'abc' 'bcb' 'cbb' 'cba' 'cbb' 'cba' 'abc' 'bcb' 'cbb'\n",
      " 'bcb' 'cbb' 'abc' 'bcb' 'bcb' 'cba' 'bcb' 'cbb']\n",
      "[[6 6 1]\n",
      " [6 8 5]\n",
      " [6 9 1]\n",
      " [7 6 3]\n",
      " [8 6 1]\n",
      " [8 7 2]\n",
      " [8 8 1]\n",
      " [8 9 2]\n",
      " [9 6 1]\n",
      " [9 7 1]\n",
      " [9 8 1]]\n"
     ]
    }
   ],
   "source": [
    "edges_with_weight = b2g.get_inx_cooc_matrix(0, 0)"
   ]
  },
  {
   "cell_type": "code",
   "execution_count": 110,
   "metadata": {},
   "outputs": [
    {
     "name": "stdout",
     "output_type": "stream",
     "text": [
      "[[ 0.  0.  0.  0.  0.  0.  0.  0.  0.  0.]\n",
      " [ 0.  0.  0.  0.  0.  0.  0.  0.  0.  0.]\n",
      " [ 0.  0.  0.  0.  0.  0.  0.  0.  0.  0.]\n",
      " [ 0.  0.  0.  0.  0.  0.  0.  0.  0.  0.]\n",
      " [ 0.  0.  0.  0.  0.  0.  0.  0.  0.  0.]\n",
      " [ 0.  0.  0.  0.  0.  0.  0.  0.  0.  0.]\n",
      " [ 0.  0.  0.  0.  0.  0.  4.  6.  6. 21.]\n",
      " [ 0.  0.  0.  0.  0.  0. 24.  0.  0. 14.]\n",
      " [ 0.  0.  0.  0.  0.  0.  3.  3.  1.  2.]\n",
      " [ 0.  0.  0.  0.  0.  0.  7. 29.  3.  1.]]\n"
     ]
    }
   ],
   "source": [
    "ebola = b2g.get_cooc_matrix(0)"
   ]
  },
  {
   "cell_type": "code",
   "execution_count": 111,
   "metadata": {},
   "outputs": [],
   "source": [
    "import networkx as nx\n",
    "\n",
    "G = nx.DiGraph(ebola)\n",
    "# G.add_weighted_edges_from(edges_with_weight)\n",
    "# nx.draw_networkx(G)\n"
   ]
  }
 ],
 "metadata": {
  "kernelspec": {
   "display_name": "Python 3",
   "language": "python",
   "name": "python3"
  },
  "language_info": {
   "codemirror_mode": {
    "name": "ipython",
    "version": 3
   },
   "file_extension": ".py",
   "mimetype": "text/x-python",
   "name": "python",
   "nbconvert_exporter": "python",
   "pygments_lexer": "ipython3",
   "version": "3.10.5"
  }
 },
 "nbformat": 4,
 "nbformat_minor": 2
}
