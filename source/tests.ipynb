{
 "cells": [
  {
   "cell_type": "code",
   "execution_count": 1,
   "metadata": {},
   "outputs": [],
   "source": [
    "import numpy as np \n",
    "import pyts \n",
    "import matplotlib.pyplot as plt\n",
    "import bag2graph\n",
    "# import numpy as np\n",
    "np.seterr(divide='ignore', invalid='ignore')\n",
    "from sklearn.preprocessing import LabelEncoder\n",
    "import networkx as nx \n",
    "\n",
    "%load_ext autoreload\n",
    "%autoreload 2"
   ]
  },
  {
   "cell_type": "code",
   "execution_count": 2,
   "metadata": {},
   "outputs": [
    {
     "data": {
      "text/plain": [
       "((40, 6, 100), (40,), (40, 6, 100), (40,))"
      ]
     },
     "execution_count": 2,
     "metadata": {},
     "output_type": "execute_result"
    }
   ],
   "source": [
    "import pyts.datasets\n",
    "\n",
    "x_train, x_test, y_train, y_test = pyts.datasets.load_basic_motions(return_X_y=True)#fetch_ucr_dataset('Strawberry',use_cache=False,data_home=return_X_y=True)\n",
    "\n",
    "total_labels = np.unique(y_train)\n",
    "# print(total_labels)\n",
    "label_map = dict(zip(total_labels, range(len(total_labels))))\n",
    "\n",
    "temp_ytrain = []\n",
    "for t in y_train:\n",
    "    temp_ytrain.append(label_map[t])\n",
    "temp_ytest = []\n",
    "for t in y_test:\n",
    "    temp_ytest.append(label_map[t])\n",
    "\n",
    "y_test = np.array(temp_ytest)\n",
    "y_train = np.array(temp_ytrain)\n",
    "\n",
    "\n",
    "\n",
    "x_train.shape, y_train.shape, x_test.shape, y_test.shape"
   ]
  },
  {
   "cell_type": "code",
   "execution_count": 3,
   "metadata": {},
   "outputs": [
    {
     "name": "stdout",
     "output_type": "stream",
     "text": [
      "{'ccb': 0, 'bcc': 1, 'aab': 2, 'baa': 3, 'cac': 4, 'aca': 5, 'bcb': 6, 'abc': 7, 'cbb': 8, 'cba': 9}\n",
      "Filtered 10 top words : ['ccb' 'bcc' 'aab' 'baa' 'cac' 'aca' 'bcb' 'abc' 'cbb' 'cba'] \n",
      "\n",
      "(40, 6)\n",
      "shape (40, 6)\n"
     ]
    }
   ],
   "source": [
    "b2g = bag2graph.Bag2Graph(10, 3, 3, channel_size=x_train.shape[1])\n",
    "\n",
    "t = b2g.apply_bow(x_train, y_train)\n",
    "\n",
    "# multivariate_graph = b2g.get_cooc_matrix(x_train[0])"
   ]
  },
  {
   "cell_type": "code",
   "execution_count": 4,
   "metadata": {},
   "outputs": [
    {
     "data": {
      "text/plain": [
       "((6,),\n",
       " array([array(['bcb', 'cbb', 'cbb', 'abc', 'bcb', 'cbb', 'cba', 'cbb', 'cba',\n",
       "               'abc', 'bcb', 'cbb', 'bcb', 'cbb', 'abc', 'bcb', 'bcb', 'cba',\n",
       "               'bcb', 'cbb'], dtype='<U3')                                   ,\n",
       "        array(['abc', 'bcb', 'cba', 'abc', 'cba', 'abc', 'cba', 'abc', 'bcb',\n",
       "               'cba', 'abc', 'cba', 'abc', 'bcb', 'bcb', 'abc', 'cba', 'abc',\n",
       "               'bcb', 'cba', 'bcb', 'cba', 'abc'], dtype='<U3')              ,\n",
       "        array(['cba', 'abc', 'bcb', 'cba', 'abc', 'bcb', 'cba', 'abc', 'bcb',\n",
       "               'cba', 'abc', 'cba', 'abc', 'bcb', 'cba', 'cba', 'bcb', 'cba',\n",
       "               'abc', 'cba', 'abc', 'bcb', 'cba', 'bcb', 'bcb'], dtype='<U3'),\n",
       "        array(['cba', 'abc', 'cba', 'abc', 'bcb', 'cbb', 'abc', 'bcb', 'cba',\n",
       "               'cbb', 'bcb', 'cba', 'abc', 'bcb', 'abc', 'cba', 'bcb', 'cba',\n",
       "               'bcb'], dtype='<U3')                                          ,\n",
       "        array(['abc', 'cba', 'abc', 'cba', 'abc', 'cba', 'abc', 'cba', 'abc',\n",
       "               'bcb', 'abc', 'bcb', 'abc', 'cba', 'cbb', 'bcb', 'bcb', 'cba'],\n",
       "              dtype='<U3')                                                    ,\n",
       "        array(['cba', 'abc', 'cba', 'abc', 'bcb', 'cba', 'abc', 'bcb', 'cba',\n",
       "               'abc', 'bcb', 'cba', 'abc', 'bcb', 'cba', 'bcb', 'abc', 'bcb',\n",
       "               'cba', 'abc', 'bcb', 'abc', 'bcb', 'cba', 'abc'], dtype='<U3')],\n",
       "       dtype=object))"
      ]
     },
     "execution_count": 4,
     "metadata": {},
     "output_type": "execute_result"
    }
   ],
   "source": [
    "single_data = t[0]\n",
    "\n",
    "single_data.shape, single_data"
   ]
  },
  {
   "cell_type": "code",
   "execution_count": 72,
   "metadata": {},
   "outputs": [],
   "source": [
    "edges_with_weight = b2g.get_inx_cooc_matrix(0, 0)"
   ]
  },
  {
   "cell_type": "code",
   "execution_count": 73,
   "metadata": {},
   "outputs": [
    {
     "name": "stdout",
     "output_type": "stream",
     "text": [
      "[array([[6, 6, 1],\n",
      "        [6, 8, 5],\n",
      "        [6, 9, 1],\n",
      "        [7, 6, 3],\n",
      "        [8, 6, 1],\n",
      "        [8, 7, 2],\n",
      "        [8, 8, 1],\n",
      "        [8, 9, 2],\n",
      "        [9, 6, 1],\n",
      "        [9, 7, 1],\n",
      "        [9, 8, 1]], dtype=int64) array([[6, 6, 1],\n",
      "                                        [6, 7, 1],\n",
      "                                        [6, 9, 4],\n",
      "                                        [7, 6, 4],\n",
      "                                        [7, 9, 4],\n",
      "                                        [9, 6, 1],\n",
      "                                        [9, 7, 7]], dtype=int64)\n",
      " array([[6, 6, 1],\n",
      "        [6, 9, 6],\n",
      "        [7, 6, 5],\n",
      "        [7, 9, 2],\n",
      "        [9, 6, 2],\n",
      "        [9, 7, 7],\n",
      "        [9, 9, 1]], dtype=int64) array([[6, 7, 1],\n",
      "                                        [6, 8, 1],\n",
      "                                        [6, 9, 3],\n",
      "                                        [7, 6, 3],\n",
      "                                        [7, 9, 2],\n",
      "                                        [8, 6, 1],\n",
      "                                        [8, 7, 1],\n",
      "                                        [9, 6, 2],\n",
      "                                        [9, 7, 3],\n",
      "                                        [9, 8, 1]], dtype=int64)\n",
      " array([[6, 6, 1],\n",
      "        [6, 7, 2],\n",
      "        [6, 9, 1],\n",
      "        [7, 6, 2],\n",
      "        [7, 9, 5],\n",
      "        [8, 6, 1],\n",
      "        [9, 7, 4],\n",
      "        [9, 8, 1]], dtype=int64) array([[6, 7, 2],\n",
      "                                        [6, 9, 6],\n",
      "                                        [7, 6, 7],\n",
      "                                        [7, 9, 1],\n",
      "                                        [9, 6, 1],\n",
      "                                        [9, 7, 7]], dtype=int64)]\n"
     ]
    },
    {
     "name": "stderr",
     "output_type": "stream",
     "text": [
      "c:\\Users\\Arthur\\Desktop\\bag_to_graph\\bag_of_graphs\\source\\bag2graph.py:147: VisibleDeprecationWarning: Creating an ndarray from ragged nested sequences (which is a list-or-tuple of lists-or-tuples-or ndarrays with different lengths or shapes) is deprecated. If you meant to do this, you must specify 'dtype=object' when creating the ndarray.\n",
      "  edg_list = np.array(edg_list)\n"
     ]
    }
   ],
   "source": [
    "ebola = b2g.get_cooc_matrix(0)"
   ]
  },
  {
   "cell_type": "code",
   "execution_count": 74,
   "metadata": {},
   "outputs": [
    {
     "name": "stdout",
     "output_type": "stream",
     "text": [
      "[[6 6 1]\n",
      " [6 8 5]\n",
      " [6 9 1]\n",
      " [7 6 3]\n",
      " [8 6 1]\n",
      " [8 7 2]\n",
      " [8 8 1]\n",
      " [8 9 2]\n",
      " [9 6 1]\n",
      " [9 7 1]\n",
      " [9 8 1]]\n",
      "[[0. 0. 0. 0. 0. 0. 0. 0. 0. 0.]\n",
      " [0. 0. 0. 0. 0. 0. 0. 0. 0. 0.]\n",
      " [0. 0. 0. 0. 0. 0. 0. 0. 0. 0.]\n",
      " [0. 0. 0. 0. 0. 0. 0. 0. 0. 0.]\n",
      " [0. 0. 0. 0. 0. 0. 0. 0. 0. 0.]\n",
      " [0. 0. 0. 0. 0. 0. 0. 0. 0. 0.]\n",
      " [0. 0. 0. 0. 0. 0. 1. 0. 5. 1.]\n",
      " [0. 0. 0. 0. 0. 0. 3. 0. 0. 0.]\n",
      " [0. 0. 0. 0. 0. 0. 1. 2. 1. 2.]\n",
      " [0. 0. 0. 0. 0. 0. 1. 1. 1. 0.]]\n"
     ]
    }
   ],
   "source": [
    "grafo1 = ebola[0]\n",
    "print(grafo1)\n",
    "adj_m = np.zeros((10,10))\n",
    "\n",
    "adj_m[grafo1[:,0], grafo1[:,1]] = grafo1[:,2]\n",
    "\n",
    "# row_sum = adj_m.sum(axis=1)\n",
    "\n",
    "print(adj_m)\n",
    "\n",
    "# norm_m = adj_m / row_sum[:, np.newaxis]\n",
    "# np.nan_to_num(norm_m, nan = 0, copy=False)\n",
    "\n",
    "# norm_m, row_sum"
   ]
  },
  {
   "cell_type": "code",
   "execution_count": 75,
   "metadata": {},
   "outputs": [
    {
     "name": "stdout",
     "output_type": "stream",
     "text": [
      "[[6 6 1]\n",
      " [6 8 5]\n",
      " [6 9 1]\n",
      " [7 6 3]\n",
      " [8 6 1]\n",
      " [8 7 2]\n",
      " [8 8 1]\n",
      " [8 9 2]\n",
      " [9 6 1]\n",
      " [9 7 1]\n",
      " [9 8 1]] (11, 3)\n"
     ]
    },
    {
     "data": {
      "text/plain": [
       "(array([[6],\n",
       "        [7],\n",
       "        [8],\n",
       "        [9]], dtype=int64),\n",
       " array([0, 3, 4, 8], dtype=int64))"
      ]
     },
     "execution_count": 75,
     "metadata": {},
     "output_type": "execute_result"
    }
   ],
   "source": [
    "print(grafo1, grafo1.shape)\n",
    "\n",
    "pairs, edges = grafo1[:, :2], grafo1[:, 2].T\n",
    "# print(grafo1, pairs, edges)\n",
    "triplets, inx  = np.unique(grafo1[:, :1], axis=0, return_index=True)\n",
    "\n",
    "triplets, inx\n"
   ]
  },
  {
   "cell_type": "code",
   "execution_count": 79,
   "metadata": {},
   "outputs": [
    {
     "name": "stdout",
     "output_type": "stream",
     "text": [
      "[0 3 4 8]\n",
      "[[6 6 1]\n",
      " [6 8 5]\n",
      " [6 9 1]]\n",
      "(3, 3)\n",
      "[1 5 1]\n",
      "7\n"
     ]
    },
    {
     "data": {
      "text/plain": [
       "array([0.14285714, 0.71428571, 0.14285714])"
      ]
     },
     "execution_count": 79,
     "metadata": {},
     "output_type": "execute_result"
    }
   ],
   "source": [
    "print(inx)\n",
    "\n",
    "split_blocks = np.split(grafo1, inx[1:])\n",
    "# print(split_blocks) \n",
    "print(split_blocks[0])\n",
    "print(split_blocks[0].shape)\n",
    "temp = split_blocks[0][:, 2]\n",
    "print(temp)\n",
    "row_norm = temp.sum()\n",
    "\n",
    "print(row_norm)\n",
    "\n",
    "kek = split_blocks[0][:,2] / row_norm\n",
    "kek\n",
    "\n"
   ]
  }
 ],
 "metadata": {
  "kernelspec": {
   "display_name": "Python 3",
   "language": "python",
   "name": "python3"
  },
  "language_info": {
   "codemirror_mode": {
    "name": "ipython",
    "version": 3
   },
   "file_extension": ".py",
   "mimetype": "text/x-python",
   "name": "python",
   "nbconvert_exporter": "python",
   "pygments_lexer": "ipython3",
   "version": "3.10.5"
  }
 },
 "nbformat": 4,
 "nbformat_minor": 2
}
