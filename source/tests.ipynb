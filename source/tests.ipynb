{
 "cells": [
  {
   "cell_type": "code",
   "execution_count": 59,
   "metadata": {},
   "outputs": [
    {
     "name": "stdout",
     "output_type": "stream",
     "text": [
      "The autoreload extension is already loaded. To reload it, use:\n",
      "  %reload_ext autoreload\n"
     ]
    }
   ],
   "source": [
    "import numpy as np \n",
    "import pyts \n",
    "import matplotlib.pyplot as plt\n",
    "import bag2graph\n",
    "\n",
    "from sklearn.preprocessing import LabelEncoder\n",
    "\n",
    "%load_ext autoreload\n",
    "%autoreload 2"
   ]
  },
  {
   "cell_type": "code",
   "execution_count": 74,
   "metadata": {},
   "outputs": [
    {
     "data": {
      "text/plain": [
       "((40, 6, 100), (40,), (40, 6, 100), (40,))"
      ]
     },
     "execution_count": 74,
     "metadata": {},
     "output_type": "execute_result"
    }
   ],
   "source": [
    "import pyts.datasets\n",
    "\n",
    "x_train, x_test, y_train, y_test = pyts.datasets.load_basic_motions(return_X_y=True)\n",
    "\n",
    "total_labels = np.unique(y_train)\n",
    "# print(total_labels)\n",
    "label_map = dict(zip(total_labels, range(len(total_labels))))\n",
    "\n",
    "temp_ytrain = []\n",
    "for t in y_train:\n",
    "    temp_ytrain.append(label_map[t])\n",
    "temp_ytest = []\n",
    "for t in y_test:\n",
    "    temp_ytest.append(label_map[t])\n",
    "\n",
    "y_test = np.array(temp_ytest)\n",
    "y_train = np.array(temp_ytrain)\n",
    "\n",
    "\n",
    "\n",
    "x_train.shape, y_train.shape, x_test.shape, y_test.shape"
   ]
  },
  {
   "cell_type": "code",
   "execution_count": 118,
   "metadata": {},
   "outputs": [
    {
     "name": "stdout",
     "output_type": "stream",
     "text": [
      "['aaa' 'aab' 'aac' 'aba' 'abb' 'abc' 'aca' 'acb' 'acc' 'baa' 'bab' 'bac'\n",
      " 'bba' 'bbb' 'bbc' 'bca' 'bcb' 'bcc' 'caa' 'cab' 'cac' 'cba' 'cbb' 'cbc'\n",
      " 'cca' 'ccb' 'ccc'] 27\n",
      "Filtered 10 top words : ['abb' 'ccb' 'aca' 'baa' 'acc' 'cba' 'cca' 'bba' 'cac' 'caa']\n"
     ]
    }
   ],
   "source": [
    "b2g = bag2graph.Bag2Graph(10, 3, 3)\n",
    "t = b2g.apply_bow_uni(x_train, y_train)\n"
   ]
  },
  {
   "cell_type": "code",
   "execution_count": 138,
   "metadata": {},
   "outputs": [
    {
     "name": "stdout",
     "output_type": "stream",
     "text": [
      "['caa' 'cba' 'bba' 'caa' 'bba' 'cca' 'cba' 'caa' 'bba' 'caa' 'bba' 'bba'\n",
      " 'abb' 'cba' 'caa' 'abb']\n",
      "[['abb' 'caa' 'cba']\n",
      " ['caa' 'cba' 'bba']\n",
      " ['cba' 'bba' 'caa']\n",
      " ['bba' 'caa' 'bba']\n",
      " ['caa' 'bba' 'cca']\n",
      " ['bba' 'cca' 'cba']\n",
      " ['cca' 'cba' 'caa']\n",
      " ['cba' 'caa' 'bba']\n",
      " ['caa' 'bba' 'caa']\n",
      " ['bba' 'caa' 'bba']\n",
      " ['caa' 'bba' 'bba']\n",
      " ['bba' 'bba' 'abb']\n",
      " ['bba' 'abb' 'cba']\n",
      " ['abb' 'cba' 'caa']\n",
      " ['cba' 'caa' 'abb']\n",
      " ['caa' 'abb' 'caa']]\n"
     ]
    }
   ],
   "source": [
    "sequencia_test = t[0]\n",
    "print(sequencia_test)\n",
    "\n",
    "def get_word_neighbors(arr):\n",
    "    n = len(arr)\n",
    "    result = np.empty((n, 3), dtype=arr.dtype)\n",
    "\n",
    "    result[:, 1] = arr  \n",
    "    result[1:, 0] = arr[:-1]  \n",
    "    result[:-1, 2] = arr[1:]  \n",
    "\n",
    "    result[0, 0] = arr[-1] \n",
    "    result[-1, 2] = arr[0] \n",
    "\n",
    "    return result\n",
    "\n",
    "triplets = get_word_neighbors(sequencia_test)\n",
    "print(triplets)\n",
    "\n"
   ]
  }
 ],
 "metadata": {
  "kernelspec": {
   "display_name": "Python 3",
   "language": "python",
   "name": "python3"
  },
  "language_info": {
   "codemirror_mode": {
    "name": "ipython",
    "version": 3
   },
   "file_extension": ".py",
   "mimetype": "text/x-python",
   "name": "python",
   "nbconvert_exporter": "python",
   "pygments_lexer": "ipython3",
   "version": "3.10.5"
  }
 },
 "nbformat": 4,
 "nbformat_minor": 2
}
